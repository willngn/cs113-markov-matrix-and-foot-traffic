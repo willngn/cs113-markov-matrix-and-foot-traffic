{
 "cells": [
  {
   "cell_type": "code",
   "execution_count": 1,
   "metadata": {},
   "outputs": [
    {
     "data": {
      "text/plain": [
       "[1/10 3/10 3/10    0    0  1/4]\n",
       "[ 2/5    0    0  1/5 3/16  1/8]\n",
       "[ 2/5    0    0  1/5 3/16  1/8]\n",
       "[   0  2/5  2/5  1/2  1/8    0]\n",
       "[   0  1/5  1/5 1/10    0  1/2]\n",
       "[1/10 1/10 1/10    0  1/2    0]"
      ]
     },
     "execution_count": 1,
     "metadata": {},
     "output_type": "execute_result"
    }
   ],
   "source": [
    "church = vector([1/10, 2/5, 2/5, 0, 0, 1/10])\n",
    "stairleft = vector([3/10, 0, 0, 2/5, 1/5, 1/10])\n",
    "stairright = vector([3/10, 0, 0, 2/5, 1/5, 1/10])\n",
    "cafe = vector([0, 1/5, 1/5, 1/2, 1/10, 0])\n",
    "fountain = vector([0, 3/16, 3/16, 1/8, 0, 1/2])\n",
    "bridge = vector([1/4, 1/8, 1/8, 0, 1/2, 0])\n",
    "\n",
    "# the Markov matrix representing the Deterministic Model\n",
    "M = matrix([church, stairleft, stairright, cafe, fountain, bridge]).transpose()\n",
    "M"
   ]
  },
  {
   "cell_type": "code",
   "execution_count": 2,
   "metadata": {},
   "outputs": [
    {
     "data": {
      "text/plain": [
       "[(1,\n",
       "  [\n",
       "  (1, 1005/886, 1005/886, 926/443, 488/443, 1944/2215)\n",
       "  ],\n",
       "  1),\n",
       " (0,\n",
       "  [\n",
       "  (0, 1, -1, 0, 0, 0)\n",
       "  ],\n",
       "  1),\n",
       " (-0.642908473380485?,\n",
       "  [(1, -0.9698879644049803?, -0.9698879644049803?, 0.5677824167575808?, 1.015896291002365?, -0.6439027789499848?)],\n",
       "  1),\n",
       " (-0.4232370648667022?,\n",
       "  [(1, -1.844894695933550?, -1.844894695933550?, 1.793379463467059?, -1.438389082373670?, 2.334799010773710?)],\n",
       "  1),\n",
       " (0.2314259720385964?,\n",
       "  [(1, 0.3699785383762458?, 0.3699785383762458?, -0.862055438284305?, -0.5156570345195827?, -0.3622446039486047?)],\n",
       "  1),\n",
       " (0.4347195662085902?,\n",
       "  [(1, 0.1403593772986793?, 0.1403593772986793?, -2.897782475444794?, 0.6150479615299042?, 1.002015759317531?)],\n",
       "  1)]"
      ]
     },
     "execution_count": 2,
     "metadata": {},
     "output_type": "execute_result"
    }
   ],
   "source": [
    "M.eigenvectors_right()"
   ]
  },
  {
   "cell_type": "code",
   "execution_count": 3,
   "metadata": {},
   "outputs": [
    {
     "data": {
      "text/plain": [
       "(0.1362741479020549,\n",
       " 0.15457733480989294,\n",
       " 0.15457733480989294,\n",
       " 0.2848529592715639,\n",
       " 0.1501168943029408,\n",
       " 0.11960132890365449)"
      ]
     },
     "execution_count": 3,
     "metadata": {},
     "output_type": "execute_result"
    }
   ],
   "source": [
    "# (1, 1005/886, 1005/886, 926/443, 488/443, 1944/2215)\n",
    "# normalize eigenvectors\n",
    "ch = 1\n",
    "sl = 1005/886\n",
    "sr =  1005/886\n",
    "cf = 926/443\n",
    "f = 488/443\n",
    "b =  1944/2215\n",
    "\n",
    "total = ch + sl + sr + cf + f + b\n",
    "float(ch / total), float(sl / total), float(sr / total), float(cf / total), float(f / total), float(b / total)"
   ]
  },
  {
   "cell_type": "code",
   "execution_count": 5,
   "metadata": {},
   "outputs": [
    {
     "data": {
      "text/plain": [
       "((0.136000000000000, 0.169000000000000, 0.169000000000000, 0.298000000000000, 0.136000000000000, 0.0920000000000000),\n",
       " (0.135377775000000, 0.155115343750000, 0.155115343750000, 0.285716437500000, 0.149619450000000, 0.119055650000000),\n",
       " (0.136308360478914, 0.154534721300816, 0.154534721300816, 0.284899339105469, 0.150150267305852, 0.119572590508133),\n",
       " (0.136274147902055, 0.154577334809893, 0.154577334809893, 0.284852959271564, 0.150116894302941, 0.119601328903655))"
      ]
     },
     "execution_count": 5,
     "metadata": {},
     "output_type": "execute_result"
    }
   ],
   "source": [
    "# experiment with three different initial conditions\n",
    "u0 = vector([0.2, float(4/25), float(4/25), float(8/25), float(2/25), float(2/25)])\n",
    "u1 = vector([float(1/6), float(1/6), float(1/6), float(1/6), float(1/6), float(1/6)])\n",
    "u2 = vector([1.0, 0.0, 0.0, 0.0, 0.0, 0.0])\n",
    "# different powers\n",
    "M*u0, M**5 * u0, M**10 * u0, M**100 * u0"
   ]
  },
  {
   "cell_type": "code",
   "execution_count": 6,
   "metadata": {},
   "outputs": [
    {
     "data": {
      "text/plain": [
       "((0.15833333333333333, 0.15208333333333335, 0.15208333333333335, 0.23750000000000002, 0.16666666666666669, 0.13333333333333333),\n",
       " (0.13779057291666666, 0.15379959635416668, 0.15379959635416668, 0.283556484375, 0.15142520833333334, 0.11962854166666666),\n",
       " (0.1361847128599772, 0.154674706698291, 0.154674706698291, 0.28476887335668943, 0.15002197340356443, 0.11967502698318684),\n",
       " (0.1362741479020549, 0.15457733480989294, 0.15457733480989294, 0.2848529592715639, 0.1501168943029408, 0.11960132890365448))"
      ]
     },
     "execution_count": 6,
     "metadata": {},
     "output_type": "execute_result"
    }
   ],
   "source": [
    "M*u1, M**5 * u1, M**10 * u1, M**100 * u1"
   ]
  },
  {
   "cell_type": "code",
   "execution_count": 7,
   "metadata": {},
   "outputs": [
    {
     "data": {
      "text/plain": [
       "((0.100000000000000, 0.400000000000000, 0.400000000000000, 0.000000000000000, 0.000000000000000, 0.100000000000000),\n",
       " (0.112086250000000, 0.179977187500000, 0.179977187500000, 0.267659375000000, 0.127445000000000, 0.132855000000000),\n",
       " (0.138926010516797, 0.152001017869922, 0.152001017869922, 0.286350782881641, 0.152771829605078, 0.117949341256641),\n",
       " (0.136274147902055, 0.154577334809893, 0.154577334809893, 0.284852959271564, 0.150116894302941, 0.119601328903654))"
      ]
     },
     "execution_count": 7,
     "metadata": {},
     "output_type": "execute_result"
    }
   ],
   "source": [
    "M*u2, M**5 * u2, M**10 * u2, M**100 * u2"
   ]
  },
  {
   "cell_type": "markdown",
   "metadata": {},
   "source": [
    "With a big power of 100, the result comes closer to the stationary distribution. The last result of each of 3 code cells above represents the stationary distribution with 3 different initial conditions. We can see that they all have pretty similar results, which shows that even with different initial conditions, the Markov matrix will still head for the same analytical solution found through eigenvectors."
   ]
  },
  {
   "cell_type": "code",
   "execution_count": 8,
   "metadata": {},
   "outputs": [
    {
     "data": {
      "text/plain": [
       "[13/100 29/100 29/100      0      0    1/4]\n",
       "[37/100      0      0 21/100    1/5   3/20]\n",
       "[37/100      0      0 21/100    1/5   3/20]\n",
       "[     0 37/100 37/100   9/20   3/20      0]\n",
       "[     0 21/100 21/100 13/100      0   9/20]\n",
       "[13/100 13/100 13/100      0   9/20      0]"
      ]
     },
     "execution_count": 8,
     "metadata": {},
     "output_type": "execute_result"
    }
   ],
   "source": [
    "# Stochastic Model\n",
    "church_rd = vector([1/4, 1/4, 1/4, 0, 0, 1/4])\n",
    "stairleft_rd = vector([1/4, 0, 0, 1/4, 1/4, 1/4])\n",
    "stairright_rd = vector([1/4, 0, 0, 1/4, 1/4, 1/4])\n",
    "cafe_rd = vector([0, 1/4, 1/4, 1/4, 1/4, 0])\n",
    "fountain_rd = vector([0, 1/4, 1/4, 1/4, 0, 1/4])\n",
    "bridge_rd = vector([1/4, 1/4, 1/4, 0, 1/4, 0])\n",
    "\n",
    "R = matrix([church_rd, stairleft_rd, stairright_rd, cafe_rd, fountain_rd, bridge_rd]).transpose()\n",
    "A = (4/5)*M + (1/5)*R\n",
    "A\n",
    "# all column vectors sum up to 1 --> satisfied!"
   ]
  },
  {
   "cell_type": "code",
   "execution_count": 9,
   "metadata": {},
   "outputs": [
    {
     "data": {
      "text/plain": [
       "[(1,\n",
       "  [\n",
       "  (1, 138959/125754, 138959/125754, 562501/314385, 348676/314385, 1440488/1571925)\n",
       "  ],\n",
       "  1),\n",
       " (0,\n",
       "  [\n",
       "  (0, 1, -1, 0, 0, 0)\n",
       "  ],\n",
       "  1),\n",
       " (-0.5956926308742601?,\n",
       "  [(1, -1.029901524302070?, -1.029901524302070?, 0.5874189476270644?, 0.9857830880933138?, -0.5133989871162397?)],\n",
       "  1),\n",
       " (-0.4119798067151492?,\n",
       "  [(1, -2.360195750851207?, -2.360195750851207?, 2.366143466082402?, -1.953486879494192?, 3.307734915114204?)],\n",
       "  1),\n",
       " (0.2012525230650791?,\n",
       "  [(1, 0.3101822935906685?, 0.3101822935906685?, -0.5232754811999252?, -0.6624762771113771?, -0.4346128288700346?)],\n",
       "  1),\n",
       " (0.3864199145243303?,\n",
       "  [(1, 0.1442519015865398?, 0.1442519015865398?, -2.200666956351387?, 0.2211479067617586?, 0.6910152464165486?)],\n",
       "  1)]"
      ]
     },
     "execution_count": 9,
     "metadata": {},
     "output_type": "execute_result"
    }
   ],
   "source": [
    "A.eigenvectors_right()"
   ]
  },
  {
   "cell_type": "code",
   "execution_count": 10,
   "metadata": {},
   "outputs": [
    {
     "data": {
      "text/plain": [
       "(0.14235520168718885,\n",
       " 0.15730343743539035,\n",
       " 0.15730343743539035,\n",
       " 0.25470344737899525,\n",
       " 0.15788234904172357,\n",
       " 0.13045212702131165)"
      ]
     },
     "execution_count": 10,
     "metadata": {},
     "output_type": "execute_result"
    }
   ],
   "source": [
    "# (1, 138959/125754, 138959/125754, 562501/314385, 348676/314385, 1440488/1571925)\n",
    "\n",
    "ch = 1\n",
    "sl = 138959/125754\n",
    "sr = 138959/125754\n",
    "cf = 562501/314385\n",
    "f = 348676/314385\n",
    "b = 1440488/1571925\n",
    "\n",
    "total = ch + sl + sr + cf + f + b\n",
    "# Stationary Distribution\n",
    "float(ch / total), float(sl / total), float(sr / total), float(cf / total), float(f / total), float(b / total)"
   ]
  }
 ],
 "metadata": {
  "kernelspec": {
   "display_name": "SageMath 9.4",
   "language": "sage",
   "name": "sagemath-9.4"
  },
  "language_info": {
   "codemirror_mode": {
    "name": "ipython",
    "version": 3
   },
   "file_extension": ".py",
   "mimetype": "text/x-python",
   "name": "python",
   "nbconvert_exporter": "python",
   "pygments_lexer": "ipython3",
   "version": "3.9.5"
  }
 },
 "nbformat": 4,
 "nbformat_minor": 4
}
